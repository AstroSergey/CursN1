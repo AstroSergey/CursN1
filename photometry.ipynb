{
 "cells": [
  {
   "cell_type": "code",
   "execution_count": 1,
   "metadata": {},
   "outputs": [],
   "source": [
    "from pathlib import Path\n",
    "import os\n",
    "\n",
    "import matplotlib.pyplot as plt\n",
    "from matplotlib.colors import LogNorm\n",
    "import pandas as pd\n",
    "import numpy as np\n",
    "\n",
    "import ccdproc as ccdp\n",
    "from ccdproc import ImageFileCollection\n",
    "from astropy import units as u\n",
    "from astropy.io import fits\n",
    "from astropy.nddata import CCDData"
   ]
  },
  {
   "cell_type": "code",
   "execution_count": 4,
   "metadata": {},
   "outputs": [],
   "source": [
    "filter_data = 'B'\n",
    "filter_S_data = 'B+s'"
   ]
  },
  {
   "cell_type": "code",
   "execution_count": 7,
   "metadata": {},
   "outputs": [],
   "source": [
    "raw_files_path = Path(filter_data)                                 # путь (название папки) к нетронутым файлам\n",
    "calibrated_files_path = Path(filter_S_data)                     # путь где будут находиться все файлы в правильном формате + мастер-кадры\n",
    "raw_images = ccdp.ImageFileCollection(raw_files_path)\n",
    "# raw_images.summary['file', 'imagetyp', 'filter', 'exptime', 'naxis1', 'naxis2']   # таблица данных об изображениях(для тестирования)\n",
    "file_names = raw_images.files                                       # Список с наименованием файлов [list of str]\n",
    "for i in range(len(file_names)):                                    # Цикл в котором: mеняется формат из .fit -> .fits\n",
    "    data, header = fits.getdata(raw_files_path / file_names[i], header=True)\n",
    "    fits.writeto(calibrated_files_path / (file_names[i] +'s'), data, header, overwrite=True)"
   ]
  },
  {
   "cell_type": "code",
   "execution_count": null,
   "metadata": {},
   "outputs": [],
   "source": [
    "#PlateSolver"
   ]
  }
 ],
 "metadata": {
  "kernelspec": {
   "display_name": ".venv",
   "language": "python",
   "name": "python3"
  },
  "language_info": {
   "codemirror_mode": {
    "name": "ipython",
    "version": 3
   },
   "file_extension": ".py",
   "mimetype": "text/x-python",
   "name": "python",
   "nbconvert_exporter": "python",
   "pygments_lexer": "ipython3",
   "version": "3.10.12"
  }
 },
 "nbformat": 4,
 "nbformat_minor": 2
}
