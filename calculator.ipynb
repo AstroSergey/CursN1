{
 "cells": [
  {
   "cell_type": "code",
   "execution_count": null,
   "metadata": {},
   "outputs": [],
   "source": [
    "import numpy as np\n",
    "from datetime import datetime\n",
    "from astropy.coordinates import EarthLocation, SkyCoord, AltAz\n",
    "from astropy.time import Time\n",
    "from astropy.io import fits\n",
    "from astropy import units as u\n",
    "from math import cos\n",
    "from math import radians\n",
    "from scipy.optimize import root_scalar\n",
    "from math import pi"
   ]
  },
  {
   "cell_type": "code",
   "execution_count": null,
   "metadata": {},
   "outputs": [],
   "source": [
    "# Раздел функций\n",
    "def tograd(t):                                      # функция переводящая ra[h, m, s] в градусы\n",
    "    return t[0]*15 + t[1]/60*15 + t[2]/3600*15\n",
    "\n",
    "\n",
    "\n",
    "def RGB(x, y, z, am):                                   # функция расчета уравнения перехода от BVR к RGB с учетом экстицнии\n",
    "    A = np.array([                                      # x = Bio, y = Gio, z = Rio\n",
    "        [1.165, -0.165, 0],\n",
    "        [0, 0.88, 0.12],\n",
    "        [0, -0.378, 1.378]\n",
    "    ])\n",
    "    B = np.array([x-21.0612, y-20.7355, z-20.1309])     # x - Cb, y - Cv, z - Cr\n",
    "    sol = np.linalg.solve(A, B)\n",
    "    x, y, z = sol\n",
    "    Bi = x + (0.2758 - 0.0037 * (x - y)) * am\n",
    "    Gi = y + (0.2049 + 0.0054 * (y - z)) * am\n",
    "    Ri = z + (0.1518 - 0.011 * (y - z)) * am\n",
    "    return Bi, Gi, Ri"
   ]
  },
  {
   "cell_type": "code",
   "execution_count": null,
   "metadata": {},
   "outputs": [],
   "source": [
    "# config file / данные из внешней оболочки\n",
    "# magnitudes в B, V, R (Джонсоновские)\n",
    "B, V, R = 12.26, 11.48, 11.48\n",
    "latitude, longitude, obs_height = 43.6781, 41.4597, 2070        # координаты наблюдателя       \n",
    "time_obs = [2024, 4, 8, 21, 12, 10]                             # Время наблюдений [год, месяц, день, час, минута, секунда]\n",
    "ra_ha = [12, 42, 53]                                            # значения ra в часах, arcmin, arcsec\n",
    "dec_deg = -0.495555 * u.deg\n",
    "SN = 10                                                         # Signal / Noise\n",
    "filter = \"B\"\n",
    "# utcoffset = -3                                                # часовой пояс \"-\" for Eastern Daylight Time"
   ]
  },
  {
   "cell_type": "code",
   "execution_count": 157,
   "metadata": {},
   "outputs": [],
   "source": [
    "# модуль расчета воздушной массы\n",
    "ra_deg = tograd(ra_ha) * u.deg\n",
    "# altitude = altitude * u.m                      # coordinates on Earth\n",
    "# utcoffset = utcoffset * u.hour                                                       # часовой пояс\n",
    "\n",
    "obs_location = EarthLocation.from_geodetic(lat=latitude, lon=longitude, height=obs_height)       # location of obervations\n",
    "\n",
    "# observation time\n",
    "obs_time = Time(datetime(time_obs[0], time_obs[1], time_obs[2], time_obs[3], time_obs[4], time_obs[5]),scale='utc',location=obs_location)   # возможна ошибка на 3часа\n",
    "\n",
    "star_ICRS = SkyCoord(ra=ra_deg, dec=dec_deg)\n",
    "star_altaz = star_ICRS.transform_to(AltAz(location=obs_location, obstime=obs_time))\n",
    "z = 90 - star_altaz.alt.deg\n",
    "AM = 1/cos(radians(z))\n"
   ]
  },
  {
   "cell_type": "code",
   "execution_count": null,
   "metadata": {},
   "outputs": [
    {
     "name": "stdout",
     "output_type": "stream",
     "text": [
      "1.4054379081910684\n",
      "(-8.488376602941074, -9.02884574868492, -8.611792836067426)\n"
     ]
    }
   ],
   "source": [
    "# модуль записи коэффициентов модели\n"
   ]
  }
 ],
 "metadata": {
  "kernelspec": {
   "display_name": ".venv",
   "language": "python",
   "name": "python3"
  },
  "language_info": {
   "codemirror_mode": {
    "name": "ipython",
    "version": 3
   },
   "file_extension": ".py",
   "mimetype": "text/x-python",
   "name": "python",
   "nbconvert_exporter": "python",
   "pygments_lexer": "ipython3",
   "version": "3.10.12"
  }
 },
 "nbformat": 4,
 "nbformat_minor": 2
}
